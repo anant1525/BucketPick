{
  "nbformat": 4,
  "nbformat_minor": 0,
  "metadata": {
    "colab": {
      "provenance": [],
      "authorship_tag": "ABX9TyMMSu4d2G3iChtEGTvQwWEs",
      "include_colab_link": true
    },
    "kernelspec": {
      "name": "python3",
      "display_name": "Python 3"
    },
    "language_info": {
      "name": "python"
    }
  },
  "cells": [
    {
      "cell_type": "markdown",
      "metadata": {
        "id": "view-in-github",
        "colab_type": "text"
      },
      "source": [
        "<a href=\"https://colab.research.google.com/github/anant1525/BucketPick/blob/main/kittie.ipynb\" target=\"_parent\"><img src=\"https://colab.research.google.com/assets/colab-badge.svg\" alt=\"Open In Colab\"/></a>"
      ]
    },
    {
      "cell_type": "code",
      "execution_count": 146,
      "metadata": {
        "id": "4oZjqFeGhlJT"
      },
      "outputs": [],
      "source": [
        "# importing time module\n",
        "import time"
      ]
    },
    {
      "cell_type": "code",
      "source": [
        "#from ast import literal_eval\n",
        "file = open(\"names.txt\",\"r\")\n",
        "Dict = {}\n",
        "index=0\n",
        "for line in file:\n",
        "    Dict[index] = line.strip()\n",
        "    index = int(index) + 1\n",
        "file.close()\n",
        "print (Dict)\n",
        "length = len(Dict)"
      ],
      "metadata": {
        "colab": {
          "base_uri": "https://localhost:8080/"
        },
        "id": "eyZjWDLyprSb",
        "outputId": "0e55c402-57e0-4c20-c479-7000dd2e9c17"
      },
      "execution_count": 147,
      "outputs": [
        {
          "output_type": "stream",
          "name": "stdout",
          "text": [
            "{0: 'Ami', 1: 'Anu', 2: 'Gov', 3: 'Kar', 4: 'Yas'}\n"
          ]
        }
      ]
    },
    {
      "cell_type": "code",
      "source": [],
      "metadata": {
        "id": "Pn8NvBhuprNG"
      },
      "execution_count": 147,
      "outputs": []
    },
    {
      "cell_type": "code",
      "source": [
        "# Get the time in nanoseconds\n",
        "# since the epoch\n",
        "# using time.time_ns() method\n",
        "time_nanosec = time.time_ns()\n",
        "\n",
        "# Print the time\n",
        "# in nanoseconds since the epoch\n",
        "print(\"Time in nanoseconds since the epoch:\", time_nanosec)"
      ],
      "metadata": {
        "colab": {
          "base_uri": "https://localhost:8080/"
        },
        "id": "-C4pIY-9igsE",
        "outputId": "ae27ea26-2371-4089-e0b5-87ca86215191"
      },
      "execution_count": 149,
      "outputs": [
        {
          "output_type": "stream",
          "name": "stdout",
          "text": [
            "Time in nanoseconds since the epoch: 1703520830678559797\n"
          ]
        }
      ]
    },
    {
      "cell_type": "code",
      "source": [
        "# This will do the modulo\n",
        "modulo = time_nanosec % length"
      ],
      "metadata": {
        "id": "7gjOwfsOihEi"
      },
      "execution_count": 150,
      "outputs": []
    },
    {
      "cell_type": "code",
      "source": [
        "# optional part of printing the modulo\n",
        "print(\"modulo 6 is:\", modulo)"
      ],
      "metadata": {
        "colab": {
          "base_uri": "https://localhost:8080/"
        },
        "id": "KfgKBVa4ihaK",
        "outputId": "d8dfd240-024a-491d-c22a-daa93abc12b6"
      },
      "execution_count": 151,
      "outputs": [
        {
          "output_type": "stream",
          "name": "stdout",
          "text": [
            "modulo 6 is: 2\n"
          ]
        }
      ]
    },
    {
      "cell_type": "code",
      "source": [
        "print (\"This cycle kitty goes to:\", Dict[int(modulo)])"
      ],
      "metadata": {
        "colab": {
          "base_uri": "https://localhost:8080/"
        },
        "id": "tqay4umckby6",
        "outputId": "3becc237-7d47-4f87-fe56-066feb4a94aa"
      },
      "execution_count": 152,
      "outputs": [
        {
          "output_type": "stream",
          "name": "stdout",
          "text": [
            "This cycle kitty goes to: Gov\n"
          ]
        }
      ]
    },
    {
      "cell_type": "code",
      "source": [
        "# remove from dictionary\n",
        "print (\"Removing the cycle name \" + Dict[modulo] + \" for next cycle\")\n",
        "del Dict[modulo]"
      ],
      "metadata": {
        "colab": {
          "base_uri": "https://localhost:8080/"
        },
        "id": "EgydO1hzt3A0",
        "outputId": "b9ade206-d9f6-40dd-a0f8-0a3236066c63"
      },
      "execution_count": 153,
      "outputs": [
        {
          "output_type": "stream",
          "name": "stdout",
          "text": [
            "Removing the cycle name Gov for next cycle\n"
          ]
        }
      ]
    },
    {
      "cell_type": "code",
      "source": [
        "# remove and update the file\n",
        "file = open(\"names.txt\",\"w\")\n",
        "for val in Dict.values():\n",
        "  file.write(val + '\\n')\n",
        "file.close()"
      ],
      "metadata": {
        "id": "E11OMpyFujvz"
      },
      "execution_count": 154,
      "outputs": []
    }
  ]
}