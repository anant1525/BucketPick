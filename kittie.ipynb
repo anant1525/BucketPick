{
  "nbformat": 4,
  "nbformat_minor": 0,
  "metadata": {
    "colab": {
      "provenance": [],
      "authorship_tag": "ABX9TyNA/vMtJ5qjCDotWEYo4/DN",
      "include_colab_link": true
    },
    "kernelspec": {
      "name": "python3",
      "display_name": "Python 3"
    },
    "language_info": {
      "name": "python"
    }
  },
  "cells": [
    {
      "cell_type": "markdown",
      "metadata": {
        "id": "view-in-github",
        "colab_type": "text"
      },
      "source": [
        "<a href=\"https://colab.research.google.com/github/anant1525/BucketPick/blob/main/kittie.ipynb\" target=\"_parent\"><img src=\"https://colab.research.google.com/assets/colab-badge.svg\" alt=\"Open In Colab\"/></a>"
      ]
    },
    {
      "cell_type": "code",
      "execution_count": 1,
      "metadata": {
        "id": "4oZjqFeGhlJT"
      },
      "outputs": [],
      "source": [
        "# importing time module\n",
        "import time"
      ]
    },
    {
      "cell_type": "code",
      "source": [
        "# forming the intial disctionary\n",
        "\n",
        "Dict = {0: 'Ana', 1: 'Gov', 2: 'Ami', 3: 'Anu', 4: 'Yas', 5: 'Kar'}\n",
        "#print(Dict)"
      ],
      "metadata": {
        "id": "UDO3HbtljtBU"
      },
      "execution_count": 2,
      "outputs": []
    },
    {
      "cell_type": "code",
      "source": [
        "# Get the time in nanoseconds\n",
        "# since the epoch\n",
        "# using time.time_ns() method\n",
        "time_nanosec = time.time_ns()\n",
        "\n",
        "# Print the time\n",
        "# in nanoseconds since the epoch\n",
        "print(\"Time in nanoseconds since the epoch:\", time_nanosec)"
      ],
      "metadata": {
        "colab": {
          "base_uri": "https://localhost:8080/"
        },
        "id": "-C4pIY-9igsE",
        "outputId": "3e22d051-3f46-45a0-fde4-44b7eb3466d0"
      },
      "execution_count": 3,
      "outputs": [
        {
          "output_type": "stream",
          "name": "stdout",
          "text": [
            "Time in nanoseconds since the epoch: 1702214409610573436\n"
          ]
        }
      ]
    },
    {
      "cell_type": "code",
      "source": [
        "# This will do the modulo\n",
        "modulo = time_nanosec % 6"
      ],
      "metadata": {
        "id": "7gjOwfsOihEi"
      },
      "execution_count": 4,
      "outputs": []
    },
    {
      "cell_type": "code",
      "source": [
        "# optional part of printing the modulo\n",
        "print(\"modulo 6 is:\", modulo)"
      ],
      "metadata": {
        "colab": {
          "base_uri": "https://localhost:8080/"
        },
        "id": "KfgKBVa4ihaK",
        "outputId": "a9c5cfd2-df60-455f-b825-b5d58d56d650"
      },
      "execution_count": 5,
      "outputs": [
        {
          "output_type": "stream",
          "name": "stdout",
          "text": [
            "modulo 6 is: 2\n"
          ]
        }
      ]
    },
    {
      "cell_type": "code",
      "source": [
        "print (\"This cycle kitty goes to:\", Dict[int(modulo)])"
      ],
      "metadata": {
        "colab": {
          "base_uri": "https://localhost:8080/"
        },
        "id": "tqay4umckby6",
        "outputId": "a07a60da-08ea-4267-f6e4-f831bae9b79c"
      },
      "execution_count": 6,
      "outputs": [
        {
          "output_type": "stream",
          "name": "stdout",
          "text": [
            "This cycle kitty goes to: Ami\n"
          ]
        }
      ]
    }
  ]
}